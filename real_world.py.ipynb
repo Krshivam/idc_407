{
 "cells": [
  {
   "cell_type": "code",
   "execution_count": 1,
   "metadata": {},
   "outputs": [],
   "source": [
    "import networkx as nx\n",
    "import matplotlib.pyplot as plt \n",
    "import numpy as np"
   ]
  },
  {
   "cell_type": "code",
   "execution_count": 2,
   "metadata": {},
   "outputs": [],
   "source": [
    "g = nx.read_edgelist(\"Wiki-Vote.txt\",create_using=nx.DiGraph(),nodetype=int)"
   ]
  },
  {
   "cell_type": "code",
   "execution_count": 3,
   "metadata": {},
   "outputs": [],
   "source": [
    "\n",
    "def plot_fun():\n",
    "\tnode_cnt = g.number_of_nodes()\n",
    "\tmax_degree = 0\n",
    "\tfor i in g.nodes():\n",
    "\t\tmax_degree = max(max_degree,i)\n",
    "\tx=[]\n",
    "\ty=[]\n",
    "\tfor i in range(max_degree+1):\n",
    "\t\tx.append(i)\n",
    "\t\ty.append(0)\n",
    "\t\tfor j in g.nodes():\n",
    "\t\t\tif(g.degree(j)==i):\n",
    "\t\t\t\ty[i]+=1\n",
    "\t\ty1 = [i/node_cnt for i in y]\n",
    "\tplt.plot(x,y1,'o')\n",
    "\tplt.xscale('log')\n",
    "\tplt.yscale('log')\n",
    "\tplt.title('Degree Distribution(log-log scale)')\n",
    "\ty2 = [i for i in range(1,10)]\n",
    "\tx1 = []\n",
    "\tfor i in y2:\n",
    "\t\tj = (i**-3)\n",
    "\t\tx1.append(j)\n",
    "\tplt.plot(y2,x1)\n",
    "\tplt.xlabel('k')\n",
    "\tplt.ylabel('P(k')\n",
    "\tplt.show()\n",
    "\tplt.hist(x1)\n",
    "\ty2.sort()\n",
    "\tx1.sort()\n",
    "\tslope,intercept = np.polyfit(y2,x1,1)\n",
    "\tprint(slope)\n",
    "\tplt.show()"
   ]
  },
  {
   "cell_type": "code",
   "execution_count": null,
   "metadata": {},
   "outputs": [],
   "source": []
  }
 ],
 "metadata": {
  "kernelspec": {
   "display_name": "Python 3",
   "language": "python",
   "name": "python3"
  },
  "language_info": {
   "codemirror_mode": {
    "name": "ipython",
    "version": 3
   },
   "file_extension": ".py",
   "mimetype": "text/x-python",
   "name": "python",
   "nbconvert_exporter": "python",
   "pygments_lexer": "ipython3",
   "version": "3.7.3"
  }
 },
 "nbformat": 4,
 "nbformat_minor": 2
}
